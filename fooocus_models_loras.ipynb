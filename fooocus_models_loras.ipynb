{
  "cells": [
    {
      "cell_type": "code",
      "execution_count": null,
      "metadata": {
        "id": "VjYy0F2gZIPR"
      },
      "outputs": [],
      "source": [
        "# Run first - we need to install the required dependencies and then clone the latest version of Fooocus\n",
        "!pip install pygit2==1.12.2\n",
        "%cd /content\n",
        "!git clone https://github.com/lllyasviel/Fooocus.git\n",
        "%cd /content/Fooocus"
      ]
    },
    {
      "cell_type": "code",
      "source": [
        "# Install any additional Fooocus dependencies e.g. upscaler\n",
        "!wget -O /content/Fooocus/models/upscale_models/fooocus_upscaler_s409985e5.bin https://huggingface.co/lllyasviel/misc/resolve/main/fooocus_upscaler_s409985e5.bin?download=true"
      ],
      "metadata": {
        "id": "jVA5oCVfDVgQ"
      },
      "execution_count": null,
      "outputs": []
    },
    {
      "cell_type": "code",
      "source": [
        "# DreamShaper XL main Model\n",
        "!wget -O /content/Fooocus/models/checkpoints/DreamShaper_XL.safetensors https://civitai.com/api/download/models/126688?type=Model&format=SafeTensor&size=full&fp=fp16"
      ],
      "metadata": {
        "id": "gPXtSHIcUrT1"
      },
      "execution_count": null,
      "outputs": []
    },
    {
      "cell_type": "code",
      "source": [
        "# Realistic Vision V6.0 B1\n",
        "!wget -O /content/Fooocus/models/checkpoints/Realistic_Vision_V6.safetensors https://civitai.com/api/download/models/130072?type=Model&format=SafeTensor&size=pruned&fp=fp16"
      ],
      "metadata": {
        "id": "JEMmmTzCp7LG"
      },
      "execution_count": null,
      "outputs": []
    },
    {
      "cell_type": "code",
      "source": [
        "# Realistic Vision V6.0 B1 Full\n",
        "!wget -O /content/Fooocus/models/checkpoints/Realistic_Vision_V6_Full.safetensors https://civitai.com/api/download/models/130072?type=Model&format=SafeTensor&size=full&fp=fp16"
      ],
      "metadata": {
        "id": "5tqP0Ia7tVGJ"
      },
      "execution_count": null,
      "outputs": []
    },
    {
      "cell_type": "code",
      "source": [
        "# DreamShaper Refiner\n",
        "!wget -O /content/Fooocus/models/checkpoints/DreamShape_8.safetensors https://civitai.com/api/download/models/128713?type=Model&format=SafeTensor&size=pruned&fp=fp16"
      ],
      "metadata": {
        "id": "2XfSc6VrsZ_V"
      },
      "execution_count": null,
      "outputs": []
    },
    {
      "cell_type": "code",
      "source": [
        "# Detail Tweaker Lora\n",
        "!wget -O /content/Fooocus/models/loras/Detail_Tweaker_XL.safetensors https://civitai.com/api/download/models/135867?type=Model&format=SafeTensor"
      ],
      "metadata": {
        "id": "ZndaF-kWnMKM"
      },
      "execution_count": null,
      "outputs": []
    },
    {
      "cell_type": "code",
      "source": [
        "# Run Fooocus!\n",
        "!python entry_with_update.py --share"
      ],
      "metadata": {
        "id": "RQyPnqbFUsgS"
      },
      "execution_count": null,
      "outputs": []
    }
  ],
  "metadata": {
    "accelerator": "GPU",
    "colab": {
      "gpuType": "T4",
      "provenance": []
    },
    "kernelspec": {
      "display_name": "Python 3",
      "name": "python3"
    },
    "language_info": {
      "name": "python"
    }
  },
  "nbformat": 4,
  "nbformat_minor": 0
}